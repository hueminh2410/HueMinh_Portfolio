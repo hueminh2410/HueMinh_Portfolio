{
 "cells": [
  {
   "cell_type": "code",
   "execution_count": 1,
   "id": "a4c36ebf",
   "metadata": {},
   "outputs": [],
   "source": [
    "import pandas as pd #dataframe\n",
    "import seaborn as sns #create plot\n",
    "import numpy as np # library with matrix\n",
    "import matplotlib.pyplot as plt #create plot"
   ]
  },
  {
   "cell_type": "code",
   "execution_count": 2,
   "id": "fbcd8a68",
   "metadata": {},
   "outputs": [],
   "source": [
    "# import data\n",
    "data = pd.read_excel(\"Bank-Customer-Details.xlsx\", sheet_name ='Data')"
   ]
  },
  {
   "cell_type": "code",
   "execution_count": 3,
   "id": "50171324",
   "metadata": {},
   "outputs": [
    {
     "data": {
      "text/html": [
       "<div>\n",
       "<style scoped>\n",
       "    .dataframe tbody tr th:only-of-type {\n",
       "        vertical-align: middle;\n",
       "    }\n",
       "\n",
       "    .dataframe tbody tr th {\n",
       "        vertical-align: top;\n",
       "    }\n",
       "\n",
       "    .dataframe thead th {\n",
       "        text-align: right;\n",
       "    }\n",
       "</style>\n",
       "<table border=\"1\" class=\"dataframe\">\n",
       "  <thead>\n",
       "    <tr style=\"text-align: right;\">\n",
       "      <th></th>\n",
       "      <th>CustomerId</th>\n",
       "      <th>CreditScore</th>\n",
       "      <th>Geography</th>\n",
       "      <th>Gender</th>\n",
       "      <th>Age</th>\n",
       "      <th>Tenure</th>\n",
       "      <th>Balance</th>\n",
       "      <th>NumOfProducts</th>\n",
       "      <th>EstimatedSalary</th>\n",
       "      <th>SpendingScore</th>\n",
       "      <th>Family</th>\n",
       "      <th>Exited</th>\n",
       "    </tr>\n",
       "  </thead>\n",
       "  <tbody>\n",
       "    <tr>\n",
       "      <th>0</th>\n",
       "      <td>15586133</td>\n",
       "      <td>666</td>\n",
       "      <td>Mid</td>\n",
       "      <td>Female</td>\n",
       "      <td>44</td>\n",
       "      <td>2</td>\n",
       "      <td>2690919000</td>\n",
       "      <td>1</td>\n",
       "      <td>301729000</td>\n",
       "      <td>18</td>\n",
       "      <td>Married</td>\n",
       "      <td>0</td>\n",
       "    </tr>\n",
       "    <tr>\n",
       "      <th>1</th>\n",
       "      <td>15713354</td>\n",
       "      <td>597</td>\n",
       "      <td>Mid</td>\n",
       "      <td>Female</td>\n",
       "      <td>22</td>\n",
       "      <td>4</td>\n",
       "      <td>2233629000</td>\n",
       "      <td>1</td>\n",
       "      <td>310328000</td>\n",
       "      <td>45</td>\n",
       "      <td>Single</td>\n",
       "      <td>0</td>\n",
       "    </tr>\n",
       "    <tr>\n",
       "      <th>2</th>\n",
       "      <td>15710390</td>\n",
       "      <td>655</td>\n",
       "      <td>North</td>\n",
       "      <td>Female</td>\n",
       "      <td>39</td>\n",
       "      <td>6</td>\n",
       "      <td>2081888000</td>\n",
       "      <td>2</td>\n",
       "      <td>655373000</td>\n",
       "      <td>12</td>\n",
       "      <td>Married</td>\n",
       "      <td>0</td>\n",
       "    </tr>\n",
       "    <tr>\n",
       "      <th>3</th>\n",
       "      <td>15732832</td>\n",
       "      <td>707</td>\n",
       "      <td>North</td>\n",
       "      <td>Female</td>\n",
       "      <td>40</td>\n",
       "      <td>5</td>\n",
       "      <td>0</td>\n",
       "      <td>2</td>\n",
       "      <td>180632000</td>\n",
       "      <td>49</td>\n",
       "      <td>Single</td>\n",
       "      <td>0</td>\n",
       "    </tr>\n",
       "    <tr>\n",
       "      <th>4</th>\n",
       "      <td>15568449</td>\n",
       "      <td>661</td>\n",
       "      <td>South</td>\n",
       "      <td>Male</td>\n",
       "      <td>38</td>\n",
       "      <td>7</td>\n",
       "      <td>3146147000</td>\n",
       "      <td>1</td>\n",
       "      <td>68864000</td>\n",
       "      <td>44</td>\n",
       "      <td>Single</td>\n",
       "      <td>0</td>\n",
       "    </tr>\n",
       "    <tr>\n",
       "      <th>...</th>\n",
       "      <td>...</td>\n",
       "      <td>...</td>\n",
       "      <td>...</td>\n",
       "      <td>...</td>\n",
       "      <td>...</td>\n",
       "      <td>...</td>\n",
       "      <td>...</td>\n",
       "      <td>...</td>\n",
       "      <td>...</td>\n",
       "      <td>...</td>\n",
       "      <td>...</td>\n",
       "      <td>...</td>\n",
       "    </tr>\n",
       "    <tr>\n",
       "      <th>8995</th>\n",
       "      <td>15794849</td>\n",
       "      <td>850</td>\n",
       "      <td>Mid</td>\n",
       "      <td>Male</td>\n",
       "      <td>22</td>\n",
       "      <td>4</td>\n",
       "      <td>2014333000</td>\n",
       "      <td>2</td>\n",
       "      <td>46382000</td>\n",
       "      <td>44</td>\n",
       "      <td>Married</td>\n",
       "      <td>1</td>\n",
       "    </tr>\n",
       "    <tr>\n",
       "      <th>8996</th>\n",
       "      <td>15600392</td>\n",
       "      <td>735</td>\n",
       "      <td>North</td>\n",
       "      <td>Female</td>\n",
       "      <td>53</td>\n",
       "      <td>8</td>\n",
       "      <td>2724598000</td>\n",
       "      <td>2</td>\n",
       "      <td>750002000</td>\n",
       "      <td>22</td>\n",
       "      <td>Single</td>\n",
       "      <td>0</td>\n",
       "    </tr>\n",
       "    <tr>\n",
       "      <th>8997</th>\n",
       "      <td>15600106</td>\n",
       "      <td>631</td>\n",
       "      <td>North</td>\n",
       "      <td>Male</td>\n",
       "      <td>36</td>\n",
       "      <td>1</td>\n",
       "      <td>0</td>\n",
       "      <td>2</td>\n",
       "      <td>585822000</td>\n",
       "      <td>33</td>\n",
       "      <td>Single</td>\n",
       "      <td>0</td>\n",
       "    </tr>\n",
       "    <tr>\n",
       "      <th>8998</th>\n",
       "      <td>15684921</td>\n",
       "      <td>792</td>\n",
       "      <td>South</td>\n",
       "      <td>Male</td>\n",
       "      <td>25</td>\n",
       "      <td>7</td>\n",
       "      <td>3142969000</td>\n",
       "      <td>1</td>\n",
       "      <td>574812000</td>\n",
       "      <td>28</td>\n",
       "      <td>Single</td>\n",
       "      <td>0</td>\n",
       "    </tr>\n",
       "    <tr>\n",
       "      <th>8999</th>\n",
       "      <td>15773503</td>\n",
       "      <td>551</td>\n",
       "      <td>South</td>\n",
       "      <td>Male</td>\n",
       "      <td>32</td>\n",
       "      <td>4</td>\n",
       "      <td>0</td>\n",
       "      <td>2</td>\n",
       "      <td>235050000</td>\n",
       "      <td>46</td>\n",
       "      <td>Single</td>\n",
       "      <td>0</td>\n",
       "    </tr>\n",
       "  </tbody>\n",
       "</table>\n",
       "<p>9000 rows × 12 columns</p>\n",
       "</div>"
      ],
      "text/plain": [
       "      CustomerId  CreditScore Geography  Gender  Age  Tenure     Balance  \\\n",
       "0       15586133          666       Mid  Female   44       2  2690919000   \n",
       "1       15713354          597       Mid  Female   22       4  2233629000   \n",
       "2       15710390          655     North  Female   39       6  2081888000   \n",
       "3       15732832          707     North  Female   40       5           0   \n",
       "4       15568449          661     South    Male   38       7  3146147000   \n",
       "...          ...          ...       ...     ...  ...     ...         ...   \n",
       "8995    15794849          850       Mid    Male   22       4  2014333000   \n",
       "8996    15600392          735     North  Female   53       8  2724598000   \n",
       "8997    15600106          631     North    Male   36       1           0   \n",
       "8998    15684921          792     South    Male   25       7  3142969000   \n",
       "8999    15773503          551     South    Male   32       4           0   \n",
       "\n",
       "      NumOfProducts  EstimatedSalary  SpendingScore   Family  Exited  \n",
       "0                 1        301729000             18  Married       0  \n",
       "1                 1        310328000             45   Single       0  \n",
       "2                 2        655373000             12  Married       0  \n",
       "3                 2        180632000             49   Single       0  \n",
       "4                 1         68864000             44   Single       0  \n",
       "...             ...              ...            ...      ...     ...  \n",
       "8995              2         46382000             44  Married       1  \n",
       "8996              2        750002000             22   Single       0  \n",
       "8997              2        585822000             33   Single       0  \n",
       "8998              1        574812000             28   Single       0  \n",
       "8999              2        235050000             46   Single       0  \n",
       "\n",
       "[9000 rows x 12 columns]"
      ]
     },
     "execution_count": 3,
     "metadata": {},
     "output_type": "execute_result"
    }
   ],
   "source": [
    "data"
   ]
  },
  {
   "cell_type": "code",
   "execution_count": 173,
   "id": "7eabd12f",
   "metadata": {},
   "outputs": [
    {
     "name": "stdout",
     "output_type": "stream",
     "text": [
      "<class 'pandas.core.frame.DataFrame'>\n",
      "RangeIndex: 9000 entries, 0 to 8999\n",
      "Data columns (total 12 columns):\n",
      " #   Column           Non-Null Count  Dtype \n",
      "---  ------           --------------  ----- \n",
      " 0   CustomerId       9000 non-null   int64 \n",
      " 1   CreditScore      9000 non-null   int64 \n",
      " 2   Geography        9000 non-null   object\n",
      " 3   Gender           9000 non-null   object\n",
      " 4   Age              9000 non-null   int64 \n",
      " 5   Tenure           9000 non-null   int64 \n",
      " 6   Balance          9000 non-null   int64 \n",
      " 7   NumOfProducts    9000 non-null   int64 \n",
      " 8   EstimatedSalary  9000 non-null   int64 \n",
      " 9   SpendingScore    9000 non-null   int64 \n",
      " 10  Family           9000 non-null   object\n",
      " 11  Exited           9000 non-null   int64 \n",
      "dtypes: int64(9), object(3)\n",
      "memory usage: 843.9+ KB\n"
     ]
    }
   ],
   "source": [
    "# view data's information\n",
    "data.info()"
   ]
  },
  {
   "cell_type": "markdown",
   "id": "0d75fed7",
   "metadata": {},
   "source": [
    "Dataset have no missing data, 11 columns, 9000 rows "
   ]
  },
  {
   "cell_type": "code",
   "execution_count": 211,
   "id": "459c0493",
   "metadata": {},
   "outputs": [],
   "source": [
    "# drop 'CustomerId' column\n",
    "data = data.drop('CustomerId',axis=1)"
   ]
  },
  {
   "cell_type": "markdown",
   "id": "be15719b",
   "metadata": {},
   "source": [
    "## 1. Describe data"
   ]
  },
  {
   "cell_type": "code",
   "execution_count": 97,
   "id": "1caf9d2f",
   "metadata": {},
   "outputs": [
    {
     "data": {
      "text/html": [
       "<div>\n",
       "<style scoped>\n",
       "    .dataframe tbody tr th:only-of-type {\n",
       "        vertical-align: middle;\n",
       "    }\n",
       "\n",
       "    .dataframe tbody tr th {\n",
       "        vertical-align: top;\n",
       "    }\n",
       "\n",
       "    .dataframe thead th {\n",
       "        text-align: right;\n",
       "    }\n",
       "</style>\n",
       "<table border=\"1\" class=\"dataframe\">\n",
       "  <thead>\n",
       "    <tr style=\"text-align: right;\">\n",
       "      <th></th>\n",
       "      <th>CreditScore</th>\n",
       "      <th>Age</th>\n",
       "      <th>Tenure</th>\n",
       "      <th>Balance</th>\n",
       "      <th>NumOfProducts</th>\n",
       "      <th>EstimatedSalary</th>\n",
       "      <th>SpendingScore</th>\n",
       "      <th>Exited</th>\n",
       "    </tr>\n",
       "  </thead>\n",
       "  <tbody>\n",
       "    <tr>\n",
       "      <th>count</th>\n",
       "      <td>9000.000000</td>\n",
       "      <td>9000.000000</td>\n",
       "      <td>9000.000000</td>\n",
       "      <td>9.000000e+03</td>\n",
       "      <td>9000.000000</td>\n",
       "      <td>9.000000e+03</td>\n",
       "      <td>9000.000000</td>\n",
       "      <td>9000.000000</td>\n",
       "    </tr>\n",
       "    <tr>\n",
       "      <th>mean</th>\n",
       "      <td>650.296111</td>\n",
       "      <td>38.898000</td>\n",
       "      <td>4.967333</td>\n",
       "      <td>1.678519e+09</td>\n",
       "      <td>1.528889</td>\n",
       "      <td>4.398055e+08</td>\n",
       "      <td>50.273444</td>\n",
       "      <td>0.109889</td>\n",
       "    </tr>\n",
       "    <tr>\n",
       "      <th>std</th>\n",
       "      <td>96.943138</td>\n",
       "      <td>10.481053</td>\n",
       "      <td>2.802821</td>\n",
       "      <td>1.373367e+09</td>\n",
       "      <td>0.581074</td>\n",
       "      <td>2.533351e+08</td>\n",
       "      <td>28.976039</td>\n",
       "      <td>0.312769</td>\n",
       "    </tr>\n",
       "    <tr>\n",
       "      <th>min</th>\n",
       "      <td>350.000000</td>\n",
       "      <td>18.000000</td>\n",
       "      <td>1.000000</td>\n",
       "      <td>0.000000e+00</td>\n",
       "      <td>1.000000</td>\n",
       "      <td>5.100000e+04</td>\n",
       "      <td>1.000000</td>\n",
       "      <td>0.000000</td>\n",
       "    </tr>\n",
       "    <tr>\n",
       "      <th>25%</th>\n",
       "      <td>583.000000</td>\n",
       "      <td>32.000000</td>\n",
       "      <td>2.000000</td>\n",
       "      <td>0.000000e+00</td>\n",
       "      <td>1.000000</td>\n",
       "      <td>2.238330e+08</td>\n",
       "      <td>25.000000</td>\n",
       "      <td>0.000000</td>\n",
       "    </tr>\n",
       "    <tr>\n",
       "      <th>50%</th>\n",
       "      <td>651.000000</td>\n",
       "      <td>37.000000</td>\n",
       "      <td>5.000000</td>\n",
       "      <td>2.139412e+09</td>\n",
       "      <td>1.000000</td>\n",
       "      <td>4.396615e+08</td>\n",
       "      <td>50.000000</td>\n",
       "      <td>0.000000</td>\n",
       "    </tr>\n",
       "    <tr>\n",
       "      <th>75%</th>\n",
       "      <td>718.000000</td>\n",
       "      <td>44.000000</td>\n",
       "      <td>7.000000</td>\n",
       "      <td>2.806643e+09</td>\n",
       "      <td>2.000000</td>\n",
       "      <td>6.564368e+08</td>\n",
       "      <td>76.000000</td>\n",
       "      <td>0.000000</td>\n",
       "    </tr>\n",
       "    <tr>\n",
       "      <th>max</th>\n",
       "      <td>850.000000</td>\n",
       "      <td>92.000000</td>\n",
       "      <td>10.000000</td>\n",
       "      <td>5.519758e+09</td>\n",
       "      <td>4.000000</td>\n",
       "      <td>8.799670e+08</td>\n",
       "      <td>100.000000</td>\n",
       "      <td>1.000000</td>\n",
       "    </tr>\n",
       "  </tbody>\n",
       "</table>\n",
       "</div>"
      ],
      "text/plain": [
       "       CreditScore          Age       Tenure       Balance  NumOfProducts  \\\n",
       "count  9000.000000  9000.000000  9000.000000  9.000000e+03    9000.000000   \n",
       "mean    650.296111    38.898000     4.967333  1.678519e+09       1.528889   \n",
       "std      96.943138    10.481053     2.802821  1.373367e+09       0.581074   \n",
       "min     350.000000    18.000000     1.000000  0.000000e+00       1.000000   \n",
       "25%     583.000000    32.000000     2.000000  0.000000e+00       1.000000   \n",
       "50%     651.000000    37.000000     5.000000  2.139412e+09       1.000000   \n",
       "75%     718.000000    44.000000     7.000000  2.806643e+09       2.000000   \n",
       "max     850.000000    92.000000    10.000000  5.519758e+09       4.000000   \n",
       "\n",
       "       EstimatedSalary  SpendingScore       Exited  \n",
       "count     9.000000e+03    9000.000000  9000.000000  \n",
       "mean      4.398055e+08      50.273444     0.109889  \n",
       "std       2.533351e+08      28.976039     0.312769  \n",
       "min       5.100000e+04       1.000000     0.000000  \n",
       "25%       2.238330e+08      25.000000     0.000000  \n",
       "50%       4.396615e+08      50.000000     0.000000  \n",
       "75%       6.564368e+08      76.000000     0.000000  \n",
       "max       8.799670e+08     100.000000     1.000000  "
      ]
     },
     "execution_count": 97,
     "metadata": {},
     "output_type": "execute_result"
    }
   ],
   "source": [
    "# Describe data with statistic\n",
    "data.describe()"
   ]
  },
  {
   "cell_type": "markdown",
   "id": "54270e59",
   "metadata": {},
   "source": [
    "The oldest age in the data is 92, showing that there are still elderly people using banking services. The minimum age is 18, banks should approach more younger customers. The standard deviation of Balance and Estimated Salary is high."
   ]
  },
  {
   "cell_type": "code",
   "execution_count": 177,
   "id": "02ecf138",
   "metadata": {},
   "outputs": [
    {
     "data": {
      "text/plain": [
       "<seaborn.axisgrid.FacetGrid at 0x209d760e730>"
      ]
     },
     "execution_count": 177,
     "metadata": {},
     "output_type": "execute_result"
    },
    {
     "data": {
      "image/png": "[encoded data removed]",
      "text/plain": [
       "<Figure size 1080x360 with 3 Axes>"
      ]
     },
     "metadata": {
      "needs_background": "light"
     },
     "output_type": "display_data"
    }
   ],
   "source": [
    "#Estimated salary of customers in each region\n",
    "sns.displot(data=data, x=\"EstimatedSalary\", col=\"Geography\", kde=True)"
   ]
  },
  {
   "cell_type": "markdown",
   "id": "c80f8871",
   "metadata": {},
   "source": []
  },
  {
   "cell_type": "code",
   "execution_count": 183,
   "id": "a0480f36",
   "metadata": {},
   "outputs": [
    {
     "data": {
      "text/plain": [
       "<seaborn.axisgrid.FacetGrid at 0x209daafe7c0>"
      ]
     },
     "execution_count": 183,
     "metadata": {},
     "output_type": "execute_result"
    },
    {
     "data": {
      "image/png": "[encoded data removed]",
      "text/plain": [
       "<Figure size 1080x360 with 3 Axes>"
      ]
     },
     "metadata": {
      "needs_background": "light"
     },
     "output_type": "display_data"
    }
   ],
   "source": [
    "sns.displot(data=data, x=\"CreditScore\", col=\"Geography\", kde=True)"
   ]
  },
  {
   "cell_type": "code",
   "execution_count": 180,
   "id": "67d8d2bf",
   "metadata": {},
   "outputs": [
    {
     "data": {
      "text/plain": [
       "<seaborn.axisgrid.FacetGrid at 0x209da21aa00>"
      ]
     },
     "execution_count": 180,
     "metadata": {},
     "output_type": "execute_result"
    },
    {
     "data": {
      "image/png": "[encoded data removed]",
      "text/plain": [
       "<Figure size 720x360 with 2 Axes>"
      ]
     },
     "metadata": {
      "needs_background": "light"
     },
     "output_type": "display_data"
    }
   ],
   "source": [
    "sns.displot(data=data, x=\"SpendingScore\", col=\"Gender\", kde=True)"
   ]
  },
  {
   "cell_type": "code",
   "execution_count": 191,
   "id": "eafab74e",
   "metadata": {},
   "outputs": [
    {
     "data": {
      "text/plain": [
       "<seaborn.axisgrid.FacetGrid at 0x209d769d6d0>"
      ]
     },
     "execution_count": 191,
     "metadata": {},
     "output_type": "execute_result"
    },
    {
     "data": {
      "image/png": "[encoded data removed]",
      "text/plain": [
       "<Figure size 720x360 with 2 Axes>"
      ]
     },
     "metadata": {
      "needs_background": "light"
     },
     "output_type": "display_data"
    }
   ],
   "source": [
    "sns.displot(data=data, x=\"EstimatedSalary\", col=\"Gender\", kde=True)"
   ]
  },
  {
   "cell_type": "code",
   "execution_count": 224,
   "id": "87ed974d",
   "metadata": {},
   "outputs": [
    {
     "data": {
      "text/plain": [
       "<matplotlib.axes._subplots.AxesSubplot at 0x209de415190>"
      ]
     },
     "execution_count": 224,
     "metadata": {},
     "output_type": "execute_result"
    },
    {
     "data": {
      "image/png": "[encoded data removed]",
      "text/plain": [
       "<Figure size 432x288 with 1 Axes>"
      ]
     },
     "metadata": {
      "needs_background": "light"
     },
     "output_type": "display_data"
    }
   ],
   "source": [
    "sns.histplot(data=data, x=\"Age\",hue=\"Gender\",multiple=\"stack\", palette ='Paired')"
   ]
  },
  {
   "cell_type": "markdown",
   "id": "132a90f4",
   "metadata": {},
   "source": [
    "The age variable is not normally distributed. The age of customers is mainly middle-aged, of which the age of 35 is the majority. At different ages, the number of female customers is almost equal to the number of male customers. For those under 20 years old and over 65 years old, the number of male customers is higher than that of female customers."
   ]
  },
  {
   "cell_type": "code",
   "execution_count": 223,
   "id": "e69cddca",
   "metadata": {},
   "outputs": [
    {
     "data": {
      "text/plain": [
       "<matplotlib.axes._subplots.AxesSubplot at 0x209de254160>"
      ]
     },
     "execution_count": 223,
     "metadata": {},
     "output_type": "execute_result"
    },
    {
     "data": {
      "image/png": "[encoded data removed]",
      "text/plain": [
       "<Figure size 432x288 with 1 Axes>"
      ]
     },
     "metadata": {
      "needs_background": "light"
     },
     "output_type": "display_data"
    }
   ],
   "source": [
    "sns.histplot(data=data, x=\"CreditScore\",hue=\"Gender\",multiple=\"stack\", palette ='Paired' )"
   ]
  },
  {
   "cell_type": "markdown",
   "id": "489849a1",
   "metadata": {},
   "source": [
    "Theo như hình trên, đa số khách hàng có điểm tín dụng cao. Điểm tín dụng từ 600 đến 700 chiếm đa số. Ngân hàng cũng có nhiều khách hàng rất uy tín với điểm tín dụng trên 850."
   ]
  },
  {
   "cell_type": "code",
   "execution_count": 216,
   "id": "1a856fdb",
   "metadata": {},
   "outputs": [],
   "source": [
    "data2 = data\n",
    "data2['Exited'] = data2['Exited'].map({0: 'Stay with bank', 1: 'No stay with bank'})"
   ]
  },
  {
   "cell_type": "code",
   "execution_count": 221,
   "id": "229a2832",
   "metadata": {},
   "outputs": [
    {
     "data": {
      "text/plain": [
       "<matplotlib.axes._subplots.AxesSubplot at 0x209de1da2e0>"
      ]
     },
     "execution_count": 221,
     "metadata": {},
     "output_type": "execute_result"
    },
    {
     "data": {
      "image/png": "[encoded data removed]",
      "text/plain": [
       "<Figure size 432x288 with 1 Axes>"
      ]
     },
     "metadata": {
      "needs_background": "light"
     },
     "output_type": "display_data"
    }
   ],
   "source": [
    "# Boxplot Balance \n",
    "sns.boxplot(x=\"Exited\", y=\"Balance\", data=data2,  palette=\"Set3\")"
   ]
  },
  {
   "cell_type": "code",
   "execution_count": 219,
   "id": "0f428afc",
   "metadata": {},
   "outputs": [
    {
     "data": {
      "text/plain": [
       "<matplotlib.axes._subplots.AxesSubplot at 0x209ddeee0a0>"
      ]
     },
     "execution_count": 219,
     "metadata": {},
     "output_type": "execute_result"
    },
    {
     "data": {
      "image/png": "[encoded data removed]",
      "text/plain": [
       "<Figure size 432x288 with 1 Axes>"
      ]
     },
     "metadata": {
      "needs_background": "light"
     },
     "output_type": "display_data"
    }
   ],
   "source": [
    "sns.boxplot(x=\"Exited\", y=\"Age\", data=data,  palette=\"Set3\")"
   ]
  },
  {
   "cell_type": "markdown",
   "id": "01ed62c0",
   "metadata": {},
   "source": [
    "Both customers who stay with bank or no have an outlier."
   ]
  },
  {
   "cell_type": "code",
   "execution_count": 220,
   "id": "8998f728",
   "metadata": {},
   "outputs": [
    {
     "data": {
      "text/plain": [
       "<matplotlib.axes._subplots.AxesSubplot at 0x209dd98ce50>"
      ]
     },
     "execution_count": 220,
     "metadata": {},
     "output_type": "execute_result"
    },
    {
     "data": {
      "image/png": "[encoded data removed]",
      "text/plain": [
       "<Figure size 432x288 with 1 Axes>"
      ]
     },
     "metadata": {
      "needs_background": "light"
     },
     "output_type": "display_data"
    }
   ],
   "source": [
    "#Boxplot Credit score\n",
    "sns.boxplot(x=\"Exited\", y=\"CreditScore\", data=data,  palette=\"Set3\")"
   ]
  },
  {
   "cell_type": "markdown",
   "id": "5c18146d",
   "metadata": {},
   "source": [
    "Customers who stay with the bank have an outlier, indicating that some customers with low credit scores still stay with the bank"
   ]
  },
  {
   "cell_type": "code",
   "execution_count": 103,
   "id": "e9e64f0b",
   "metadata": {
    "scrolled": true
   },
   "outputs": [
    {
     "data": {
      "image/png": "[encoded data removed]",
      "text/plain": [
       "<Figure size 936x432 with 2 Axes>"
      ]
     },
     "metadata": {
      "needs_background": "light"
     },
     "output_type": "display_data"
    }
   ],
   "source": [
    "# Correlation\n",
    "corrmat = data.corr()\n",
    "plt.figure(figsize=(13, 6))\n",
    "sns.heatmap(corrmat, vmax=1, annot=True, linewidths=.5)\n",
    "plt.xticks(rotation=30, horizontalalignment='right')\n",
    "plt.show()"
   ]
  },
  {
   "cell_type": "markdown",
   "id": "f08d0e3d",
   "metadata": {},
   "source": [
    "All variables have low correlation with each other. In there, NumofProducts and Balance have the highest correlation, CreditScore and Tenure have the lowest correlation. The correlation of other variables to Exited is also very low, the variable with the highest correlation with Exited is Age, the lowest is NumOfProduct. CreditScore, Balance , SpendingScore are positively correlated with Exited. Age, Tenure, NumOfProducts, EstimatedSalary are negatively correlated with Exited."
   ]
  },
  {
   "cell_type": "markdown",
   "id": "8fcb529d",
   "metadata": {},
   "source": [
    "## 2. Building decision tree model"
   ]
  },
  {
   "cell_type": "code",
   "execution_count": 104,
   "id": "d4a59ca0",
   "metadata": {},
   "outputs": [
    {
     "data": {
      "text/html": [
       "<div>\n",
       "<style scoped>\n",
       "    .dataframe tbody tr th:only-of-type {\n",
       "        vertical-align: middle;\n",
       "    }\n",
       "\n",
       "    .dataframe tbody tr th {\n",
       "        vertical-align: top;\n",
       "    }\n",
       "\n",
       "    .dataframe thead th {\n",
       "        text-align: right;\n",
       "    }\n",
       "</style>\n",
       "<table border=\"1\" class=\"dataframe\">\n",
       "  <thead>\n",
       "    <tr style=\"text-align: right;\">\n",
       "      <th></th>\n",
       "      <th>CreditScore</th>\n",
       "      <th>Geography</th>\n",
       "      <th>Gender</th>\n",
       "      <th>Age</th>\n",
       "      <th>Tenure</th>\n",
       "      <th>Balance</th>\n",
       "      <th>NumOfProducts</th>\n",
       "      <th>EstimatedSalary</th>\n",
       "      <th>SpendingScore</th>\n",
       "      <th>Family</th>\n",
       "      <th>Exited</th>\n",
       "    </tr>\n",
       "  </thead>\n",
       "  <tbody>\n",
       "    <tr>\n",
       "      <th>0</th>\n",
       "      <td>666</td>\n",
       "      <td>1</td>\n",
       "      <td>1</td>\n",
       "      <td>44</td>\n",
       "      <td>2</td>\n",
       "      <td>2690919000</td>\n",
       "      <td>1</td>\n",
       "      <td>301729000</td>\n",
       "      <td>18</td>\n",
       "      <td>1</td>\n",
       "      <td>0</td>\n",
       "    </tr>\n",
       "    <tr>\n",
       "      <th>1</th>\n",
       "      <td>597</td>\n",
       "      <td>1</td>\n",
       "      <td>1</td>\n",
       "      <td>22</td>\n",
       "      <td>4</td>\n",
       "      <td>2233629000</td>\n",
       "      <td>1</td>\n",
       "      <td>310328000</td>\n",
       "      <td>45</td>\n",
       "      <td>0</td>\n",
       "      <td>0</td>\n",
       "    </tr>\n",
       "    <tr>\n",
       "      <th>2</th>\n",
       "      <td>655</td>\n",
       "      <td>0</td>\n",
       "      <td>1</td>\n",
       "      <td>39</td>\n",
       "      <td>6</td>\n",
       "      <td>2081888000</td>\n",
       "      <td>2</td>\n",
       "      <td>655373000</td>\n",
       "      <td>12</td>\n",
       "      <td>1</td>\n",
       "      <td>0</td>\n",
       "    </tr>\n",
       "    <tr>\n",
       "      <th>3</th>\n",
       "      <td>707</td>\n",
       "      <td>0</td>\n",
       "      <td>1</td>\n",
       "      <td>40</td>\n",
       "      <td>5</td>\n",
       "      <td>0</td>\n",
       "      <td>2</td>\n",
       "      <td>180632000</td>\n",
       "      <td>49</td>\n",
       "      <td>0</td>\n",
       "      <td>0</td>\n",
       "    </tr>\n",
       "    <tr>\n",
       "      <th>4</th>\n",
       "      <td>661</td>\n",
       "      <td>2</td>\n",
       "      <td>0</td>\n",
       "      <td>38</td>\n",
       "      <td>7</td>\n",
       "      <td>3146147000</td>\n",
       "      <td>1</td>\n",
       "      <td>68864000</td>\n",
       "      <td>44</td>\n",
       "      <td>0</td>\n",
       "      <td>0</td>\n",
       "    </tr>\n",
       "    <tr>\n",
       "      <th>...</th>\n",
       "      <td>...</td>\n",
       "      <td>...</td>\n",
       "      <td>...</td>\n",
       "      <td>...</td>\n",
       "      <td>...</td>\n",
       "      <td>...</td>\n",
       "      <td>...</td>\n",
       "      <td>...</td>\n",
       "      <td>...</td>\n",
       "      <td>...</td>\n",
       "      <td>...</td>\n",
       "    </tr>\n",
       "    <tr>\n",
       "      <th>8995</th>\n",
       "      <td>850</td>\n",
       "      <td>1</td>\n",
       "      <td>0</td>\n",
       "      <td>22</td>\n",
       "      <td>4</td>\n",
       "      <td>2014333000</td>\n",
       "      <td>2</td>\n",
       "      <td>46382000</td>\n",
       "      <td>44</td>\n",
       "      <td>1</td>\n",
       "      <td>1</td>\n",
       "    </tr>\n",
       "    <tr>\n",
       "      <th>8996</th>\n",
       "      <td>735</td>\n",
       "      <td>0</td>\n",
       "      <td>1</td>\n",
       "      <td>53</td>\n",
       "      <td>8</td>\n",
       "      <td>2724598000</td>\n",
       "      <td>2</td>\n",
       "      <td>750002000</td>\n",
       "      <td>22</td>\n",
       "      <td>0</td>\n",
       "      <td>0</td>\n",
       "    </tr>\n",
       "    <tr>\n",
       "      <th>8997</th>\n",
       "      <td>631</td>\n",
       "      <td>0</td>\n",
       "      <td>0</td>\n",
       "      <td>36</td>\n",
       "      <td>1</td>\n",
       "      <td>0</td>\n",
       "      <td>2</td>\n",
       "      <td>585822000</td>\n",
       "      <td>33</td>\n",
       "      <td>0</td>\n",
       "      <td>0</td>\n",
       "    </tr>\n",
       "    <tr>\n",
       "      <th>8998</th>\n",
       "      <td>792</td>\n",
       "      <td>2</td>\n",
       "      <td>0</td>\n",
       "      <td>25</td>\n",
       "      <td>7</td>\n",
       "      <td>3142969000</td>\n",
       "      <td>1</td>\n",
       "      <td>574812000</td>\n",
       "      <td>28</td>\n",
       "      <td>0</td>\n",
       "      <td>0</td>\n",
       "    </tr>\n",
       "    <tr>\n",
       "      <th>8999</th>\n",
       "      <td>551</td>\n",
       "      <td>2</td>\n",
       "      <td>0</td>\n",
       "      <td>32</td>\n",
       "      <td>4</td>\n",
       "      <td>0</td>\n",
       "      <td>2</td>\n",
       "      <td>235050000</td>\n",
       "      <td>46</td>\n",
       "      <td>0</td>\n",
       "      <td>0</td>\n",
       "    </tr>\n",
       "  </tbody>\n",
       "</table>\n",
       "<p>9000 rows × 11 columns</p>\n",
       "</div>"
      ],
      "text/plain": [
       "      CreditScore  Geography  Gender  Age  Tenure     Balance  NumOfProducts  \\\n",
       "0             666          1       1   44       2  2690919000              1   \n",
       "1             597          1       1   22       4  2233629000              1   \n",
       "2             655          0       1   39       6  2081888000              2   \n",
       "3             707          0       1   40       5           0              2   \n",
       "4             661          2       0   38       7  3146147000              1   \n",
       "...           ...        ...     ...  ...     ...         ...            ...   \n",
       "8995          850          1       0   22       4  2014333000              2   \n",
       "8996          735          0       1   53       8  2724598000              2   \n",
       "8997          631          0       0   36       1           0              2   \n",
       "8998          792          2       0   25       7  3142969000              1   \n",
       "8999          551          2       0   32       4           0              2   \n",
       "\n",
       "      EstimatedSalary  SpendingScore  Family  Exited  \n",
       "0           301729000             18       1       0  \n",
       "1           310328000             45       0       0  \n",
       "2           655373000             12       1       0  \n",
       "3           180632000             49       0       0  \n",
       "4            68864000             44       0       0  \n",
       "...               ...            ...     ...     ...  \n",
       "8995         46382000             44       1       1  \n",
       "8996        750002000             22       0       0  \n",
       "8997        585822000             33       0       0  \n",
       "8998        574812000             28       0       0  \n",
       "8999        235050000             46       0       0  \n",
       "\n",
       "[9000 rows x 11 columns]"
      ]
     },
     "execution_count": 104,
     "metadata": {},
     "output_type": "execute_result"
    }
   ],
   "source": [
    "#relabel data\n",
    "data['Gender'] = data['Gender'].map({'Male': 0, 'Female': 1})\n",
    "data['Geography'] = data['Geography'].map({'North': 0, 'Mid': 1, 'South': 2})\n",
    "data['Family'] = data['Family'].map({'Single': 0, 'Married': 1, 'Divorced': 2, 'Not specified': 3})\n",
    "data\n"
   ]
  },
  {
   "cell_type": "code",
   "execution_count": 105,
   "id": "f6b709d7",
   "metadata": {},
   "outputs": [],
   "source": [
    "# Split X, y set\n",
    "X = data.iloc[:, :-1].values\n",
    "y= data.iloc[:,-1].values"
   ]
  },
  {
   "cell_type": "code",
   "execution_count": 112,
   "id": "2c659ee7",
   "metadata": {},
   "outputs": [],
   "source": [
    "# Split data to training set and test set with test_size = 20%, random state = 20\n",
    "from sklearn.model_selection import train_test_split\n",
    "X_train, X_test, y_train, y_test = train_test_split(X, y, test_size = 0.2, random_state=20)"
   ]
  },
  {
   "cell_type": "markdown",
   "id": "1d183f03",
   "metadata": {},
   "source": [
    "### Building model on training set"
   ]
  },
  {
   "cell_type": "code",
   "execution_count": 113,
   "id": "d33295d9",
   "metadata": {},
   "outputs": [],
   "source": [
    "# train the decision tree model\n",
    "from sklearn.tree import DecisionTreeClassifier\n",
    "DT_classifier = DecisionTreeClassifier(criterion = 'entropy', random_state = 0) # use entropy instead of gini\n",
    "clf = DT_classifier.fit(X_train, y_train)"
   ]
  },
  {
   "cell_type": "code",
   "execution_count": 114,
   "id": "15301a3f",
   "metadata": {},
   "outputs": [],
   "source": [
    "# import more some necessary packages\n",
    "from sklearn.metrics import classification_report, plot_confusion_matrix, accuracy_score\n",
    "from sklearn.model_selection import train_test_split"
   ]
  },
  {
   "cell_type": "code",
   "execution_count": 115,
   "id": "556a9efb",
   "metadata": {},
   "outputs": [
    {
     "data": {
      "text/plain": [
       "<sklearn.metrics._plot.confusion_matrix.ConfusionMatrixDisplay at 0x209d73dda00>"
      ]
     },
     "execution_count": 115,
     "metadata": {},
     "output_type": "execute_result"
    },
    {
     "data": {
      "image/png": "[encoded data removed]",
      "text/plain": [
       "<Figure size 432x288 with 2 Axes>"
      ]
     },
     "metadata": {
      "needs_background": "light"
     },
     "output_type": "display_data"
    }
   ],
   "source": [
    "# Confusion matrix\n",
    "# 0: Stay with bank\n",
    "# 1: No stay with bank\n",
    "clf = DT_classifier.fit(X_train, y_train)\n",
    "plot_confusion_matrix(clf, X_test,y_test,cmap= 'Blues', display_labels = ['Stay with bank', 'No stay with bank'])"
   ]
  },
  {
   "cell_type": "markdown",
   "id": "4b1d0d80",
   "metadata": {},
   "source": [
    "- True Positive = 1414: The model correctly predicted 1407 people who did not stay with the bank.\n",
    "- False Positive = 169: There are 172 customers who stay with the bank who pay their debts on time and are misclassified by the model.\n",
    "- False negative = 191: There are 199 customers who do not stay with the bank but are misclassified by the model.\n",
    "- True negative = 26: There are 22 customers staying with the bank who are correctly classified by the model.\n",
    "- The model incorrectly detected a lot of customers staying with bank to no stay with bank, more than the number of correct detections was 26."
   ]
  },
  {
   "cell_type": "code",
   "execution_count": 116,
   "id": "0780f208",
   "metadata": {},
   "outputs": [
    {
     "name": "stdout",
     "output_type": "stream",
     "text": [
      "              precision    recall  f1-score   support\n",
      "\n",
      "           0       0.89      0.88      0.89      1605\n",
      "           1       0.12      0.13      0.13       195\n",
      "\n",
      "    accuracy                           0.80      1800\n",
      "   macro avg       0.51      0.51      0.51      1800\n",
      "weighted avg       0.81      0.80      0.80      1800\n",
      "\n",
      "Decision Tree accuracy:  0.8\n"
     ]
    }
   ],
   "source": [
    "# classification report and accuracy\n",
    "y_pred = DT_classifier.predict(X_test)\n",
    "print(classification_report(y_test,y_pred))\n",
    "print('Decision Tree accuracy: ', accuracy_score(y_test, y_pred))"
   ]
  },
  {
   "cell_type": "markdown",
   "id": "4717db31",
   "metadata": {},
   "source": [
    "- Support0=1605, support1=195 -> Imbalanced dataset. This makes the metrics in class 1 very low.\n",
    "- Precision and recall of class 1 are much lower than that of class 0, this is because the data is imbalanced, and the number of class 1 is much less than that of class 0.\n",
    "- The imbalanced dataset also makes the precision, recall, f1-score calculated by the macro average also very low, 51%. When weighted averages these metrics are increased.\n",
    "- Accuracy of the model is 80%, but due to the imbalanced dataset, it is impossible to trust the accuracy too much."
   ]
  },
  {
   "cell_type": "markdown",
   "id": "0538a757",
   "metadata": {},
   "source": [
    "**The reason choose decision tree algorithm:**\n",
    "- Decision tree does not need to scale feature, decision tree does not perform distance calculation but uses rule based approach.\n",
    "- Decision tree is powerful with outliers, this is suitable for this dataset because it has many outliers.\n",
    "- Less training time: This makes tissue building happen faster, and less time-consuming."
   ]
  },
  {
   "cell_type": "markdown",
   "id": "33478391",
   "metadata": {},
   "source": [
    "### Oversampling (Upsample) data "
   ]
  },
  {
   "cell_type": "markdown",
   "id": "51bb2994",
   "metadata": {},
   "source": [
    "Use oversampling data to overcome the imbalanced dataset. Oversampling data helps to increase the number of minority data (class 1) to create a balance for the dataset."
   ]
  },
  {
   "cell_type": "code",
   "execution_count": 128,
   "id": "6fcba262",
   "metadata": {},
   "outputs": [
    {
     "data": {
      "text/plain": [
       "Exited\n",
       "0    8011\n",
       "1    8011\n",
       "dtype: int64"
      ]
     },
     "execution_count": 128,
     "metadata": {},
     "output_type": "execute_result"
    }
   ],
   "source": [
    "#upsample minority data\n",
    "from sklearn.utils import resample\n",
    "\n",
    "df = data\n",
    "\n",
    "# Split majority data and minority data\n",
    "df_majority = df[df['Exited']==0]\n",
    "df_minority = df[df['Exited']==1]\n",
    "\n",
    "df_minority_upsampled = resample(df_minority, \n",
    "                                 replace=True,     # sample with replacement\n",
    "                                 n_samples=len(df_majority),    # to match majority class\n",
    "                                 random_state=1234) # reproducible results\n",
    " \n",
    "# Combine majority class with upsampled minority class\n",
    "df_upsampled = pd.concat([df_majority, df_minority_upsampled])\n",
    " \n",
    "# Display new class counts\n",
    "df_upsampled.value_counts('Exited')\n"
   ]
  },
  {
   "cell_type": "markdown",
   "id": "91cb3f14",
   "metadata": {},
   "source": [
    "=> Number of class 0 = number of class 1"
   ]
  },
  {
   "cell_type": "markdown",
   "id": "c1589ad1",
   "metadata": {},
   "source": [
    "### Building model with balanced data"
   ]
  },
  {
   "cell_type": "code",
   "execution_count": 129,
   "id": "c93a9c75",
   "metadata": {},
   "outputs": [],
   "source": [
    "# Split X, y set \n",
    "X = df_upsampled.iloc[:, :-1].values\n",
    "y= df_upsampled.iloc[:,-1].values"
   ]
  },
  {
   "cell_type": "code",
   "execution_count": 130,
   "id": "9c2c26d6",
   "metadata": {},
   "outputs": [],
   "source": [
    "# Split data to training set and test set with test_size = 0.2, random state =0\n",
    "from sklearn.model_selection import train_test_split\n",
    "X_train, X_test, y_train, y_test = train_test_split(X, y, test_size = 0.2, random_state=20)"
   ]
  },
  {
   "cell_type": "code",
   "execution_count": 131,
   "id": "71636f57",
   "metadata": {},
   "outputs": [
    {
     "data": {
      "text/plain": [
       "DecisionTreeClassifier(criterion='entropy', random_state=0)"
      ]
     },
     "execution_count": 131,
     "metadata": {},
     "output_type": "execute_result"
    }
   ],
   "source": [
    "# train the decision tree model\n",
    "from sklearn.tree import DecisionTreeClassifier\n",
    "DT_classifier = DecisionTreeClassifier(criterion = 'entropy', random_state = 0) # use entropy instead of gini\n",
    "DT_classifier.fit(X_train, y_train)"
   ]
  },
  {
   "cell_type": "code",
   "execution_count": 132,
   "id": "612769c7",
   "metadata": {},
   "outputs": [
    {
     "data": {
      "text/plain": [
       "<sklearn.metrics._plot.confusion_matrix.ConfusionMatrixDisplay at 0x209d77dda90>"
      ]
     },
     "execution_count": 132,
     "metadata": {},
     "output_type": "execute_result"
    },
    {
     "data": {
      "image/png": "[encoded data removed]",
      "text/plain": [
       "<Figure size 432x288 with 2 Axes>"
      ]
     },
     "metadata": {
      "needs_background": "light"
     },
     "output_type": "display_data"
    }
   ],
   "source": [
    "# Confusion matrix\n",
    "clf = DT_classifier.fit(X_train, y_train)\n",
    "plot_confusion_matrix(clf, X_test,y_test,cmap= 'Blues', display_labels = ['Stay with bank', 'No stay with bank'])"
   ]
  },
  {
   "cell_type": "markdown",
   "id": "28b0ee79",
   "metadata": {},
   "source": [
    "- True Positive = 1474: The model correctly predicted 1407 people who stayed with the bank.\n",
    "- False Positive = 2: There are 2 customers who do not stay with the bank but the model predicts wrong.\n",
    "- False negative = 209: There are 209 customers who stay with the bank but are detected wrongly by the model.\n",
    "- True negative = 1577: There are 1577 customers staying with the bank correctly detected by the model.\n",
    "- The model with the balanced dataset only wrongly predicted 2 customers (False positive = 2), greatly reduced compared to the previous model."
   ]
  },
  {
   "cell_type": "code",
   "execution_count": 133,
   "id": "e6a942da",
   "metadata": {},
   "outputs": [
    {
     "name": "stdout",
     "output_type": "stream",
     "text": [
      "              precision    recall  f1-score   support\n",
      "\n",
      "           0       1.00      0.87      0.93      1626\n",
      "           1       0.88      1.00      0.94      1579\n",
      "\n",
      "    accuracy                           0.93      3205\n",
      "   macro avg       0.94      0.94      0.93      3205\n",
      "weighted avg       0.94      0.93      0.93      3205\n",
      "\n",
      "Decision Tree accuracy:  0.9341653666146645\n"
     ]
    }
   ],
   "source": [
    "# classification report and accuracy\n",
    "y_pred = DT_classifier.predict(X_test)\n",
    "\n",
    "print(classification_report(y_test,y_pred))\n",
    "print('Decision Tree accuracy: ', accuracy_score(y_test, y_pred))"
   ]
  },
  {
   "cell_type": "markdown",
   "id": "f6feb338",
   "metadata": {},
   "source": [
    "- **After upsample data:** all metric are increase.\n",
    "    - Support0 is close to support 1 -> data is no longer imbalanced.\n",
    "    - Accuracy increased from 80% to 93.41%.\n",
    "    - Precion, recall and f1-score after data balance also increase\n",
    "    - Macro average and weighted average are equal."
   ]
  },
  {
   "cell_type": "code",
   "execution_count": 135,
   "id": "74fbae5b",
   "metadata": {},
   "outputs": [
    {
     "data": {
      "text/html": [
       "<div>\n",
       "<style scoped>\n",
       "    .dataframe tbody tr th:only-of-type {\n",
       "        vertical-align: middle;\n",
       "    }\n",
       "\n",
       "    .dataframe tbody tr th {\n",
       "        vertical-align: top;\n",
       "    }\n",
       "\n",
       "    .dataframe thead th {\n",
       "        text-align: right;\n",
       "    }\n",
       "</style>\n",
       "<table border=\"1\" class=\"dataframe\">\n",
       "  <thead>\n",
       "    <tr style=\"text-align: right;\">\n",
       "      <th></th>\n",
       "      <th>FeatureName</th>\n",
       "      <th>Decision Tree Feature Importance</th>\n",
       "    </tr>\n",
       "  </thead>\n",
       "  <tbody>\n",
       "    <tr>\n",
       "      <th>0</th>\n",
       "      <td>CreditScore</td>\n",
       "      <td>0.209867</td>\n",
       "    </tr>\n",
       "    <tr>\n",
       "      <th>7</th>\n",
       "      <td>EstimatedSalary</td>\n",
       "      <td>0.201703</td>\n",
       "    </tr>\n",
       "    <tr>\n",
       "      <th>8</th>\n",
       "      <td>SpendingScore</td>\n",
       "      <td>0.165480</td>\n",
       "    </tr>\n",
       "    <tr>\n",
       "      <th>5</th>\n",
       "      <td>Balance</td>\n",
       "      <td>0.133536</td>\n",
       "    </tr>\n",
       "    <tr>\n",
       "      <th>3</th>\n",
       "      <td>Age</td>\n",
       "      <td>0.127059</td>\n",
       "    </tr>\n",
       "    <tr>\n",
       "      <th>4</th>\n",
       "      <td>Tenure</td>\n",
       "      <td>0.071584</td>\n",
       "    </tr>\n",
       "    <tr>\n",
       "      <th>1</th>\n",
       "      <td>Geography</td>\n",
       "      <td>0.039345</td>\n",
       "    </tr>\n",
       "    <tr>\n",
       "      <th>6</th>\n",
       "      <td>NumOfProducts</td>\n",
       "      <td>0.028656</td>\n",
       "    </tr>\n",
       "    <tr>\n",
       "      <th>9</th>\n",
       "      <td>Family</td>\n",
       "      <td>0.021030</td>\n",
       "    </tr>\n",
       "    <tr>\n",
       "      <th>2</th>\n",
       "      <td>Gender</td>\n",
       "      <td>0.001742</td>\n",
       "    </tr>\n",
       "  </tbody>\n",
       "</table>\n",
       "</div>"
      ],
      "text/plain": [
       "       FeatureName  Decision Tree Feature Importance\n",
       "0      CreditScore                          0.209867\n",
       "7  EstimatedSalary                          0.201703\n",
       "8    SpendingScore                          0.165480\n",
       "5          Balance                          0.133536\n",
       "3              Age                          0.127059\n",
       "4           Tenure                          0.071584\n",
       "1        Geography                          0.039345\n",
       "6    NumOfProducts                          0.028656\n",
       "9           Family                          0.021030\n",
       "2           Gender                          0.001742"
      ]
     },
     "execution_count": 135,
     "metadata": {},
     "output_type": "execute_result"
    }
   ],
   "source": [
    "# feature importance\n",
    "importance_dt = DT_classifier.feature_importances_\n",
    "features_importances_dt = pd.DataFrame({'FeatureName': data.columns[0:len(data.columns)-1], 'Decision Tree Feature Importance': importance_dt})\n",
    "features_importances_dt.sort_values(by=['Decision Tree Feature Importance'], ascending=False)"
   ]
  },
  {
   "cell_type": "code",
   "execution_count": 136,
   "id": "4c99e486",
   "metadata": {},
   "outputs": [
    {
     "data": {
      "text/plain": [
       "<matplotlib.axes._subplots.AxesSubplot at 0x209d6947760>"
      ]
     },
     "execution_count": 136,
     "metadata": {},
     "output_type": "execute_result"
    },
    {
     "data": {
      "image/png": "[encoded data removed]",
      "text/plain": [
       "<Figure size 1080x576 with 1 Axes>"
      ]
     },
     "metadata": {
      "needs_background": "light"
     },
     "output_type": "display_data"
    }
   ],
   "source": [
    "features_importances_dt.sort_values(\"Decision Tree Feature Importance\").plot(figsize=(15,8), x=\"FeatureName\", y=[\"Decision Tree Feature Importance\"], kind=\"barh\")"
   ]
  },
  {
   "cell_type": "markdown",
   "id": "5cafa090",
   "metadata": {},
   "source": [
    "All variables have an influence on whether the customer continues to use the bank or not.\n",
    "The most influential variable that customers stay with the bank is Salary. The next influencing variables are CreditScore, SpendingScore,...\n",
    "The variable that has the least influence on whether customers stay with the bank or not is Gender."
   ]
  },
  {
   "cell_type": "markdown",
   "id": "52916617",
   "metadata": {},
   "source": [
    "## 3. Test data again "
   ]
  },
  {
   "cell_type": "code",
   "execution_count": 165,
   "id": "1b668e20",
   "metadata": {},
   "outputs": [],
   "source": [
    "test_data = pd.read_csv('test_sample_data.csv').drop('CustomerId',1)"
   ]
  },
  {
   "cell_type": "code",
   "execution_count": 166,
   "id": "9a96e930",
   "metadata": {},
   "outputs": [
    {
     "data": {
      "text/html": [
       "<div>\n",
       "<style scoped>\n",
       "    .dataframe tbody tr th:only-of-type {\n",
       "        vertical-align: middle;\n",
       "    }\n",
       "\n",
       "    .dataframe tbody tr th {\n",
       "        vertical-align: top;\n",
       "    }\n",
       "\n",
       "    .dataframe thead th {\n",
       "        text-align: right;\n",
       "    }\n",
       "</style>\n",
       "<table border=\"1\" class=\"dataframe\">\n",
       "  <thead>\n",
       "    <tr style=\"text-align: right;\">\n",
       "      <th></th>\n",
       "      <th>CreditScore</th>\n",
       "      <th>Geography</th>\n",
       "      <th>Gender</th>\n",
       "      <th>Age</th>\n",
       "      <th>Tenure</th>\n",
       "      <th>Balance</th>\n",
       "      <th>NumOfProducts</th>\n",
       "      <th>EstimatedSalary</th>\n",
       "      <th>SpendingScore</th>\n",
       "      <th>Family</th>\n",
       "      <th>Exited</th>\n",
       "    </tr>\n",
       "  </thead>\n",
       "  <tbody>\n",
       "    <tr>\n",
       "      <th>0</th>\n",
       "      <td>633</td>\n",
       "      <td>0</td>\n",
       "      <td>0</td>\n",
       "      <td>40</td>\n",
       "      <td>4</td>\n",
       "      <td>3312716000</td>\n",
       "      <td>1</td>\n",
       "      <td>152551000</td>\n",
       "      <td>45</td>\n",
       "      <td>0</td>\n",
       "      <td>0</td>\n",
       "    </tr>\n",
       "    <tr>\n",
       "      <th>1</th>\n",
       "      <td>733</td>\n",
       "      <td>2</td>\n",
       "      <td>1</td>\n",
       "      <td>30</td>\n",
       "      <td>1</td>\n",
       "      <td>1833024000</td>\n",
       "      <td>1</td>\n",
       "      <td>254184000</td>\n",
       "      <td>38</td>\n",
       "      <td>0</td>\n",
       "      <td>0</td>\n",
       "    </tr>\n",
       "    <tr>\n",
       "      <th>2</th>\n",
       "      <td>705</td>\n",
       "      <td>2</td>\n",
       "      <td>0</td>\n",
       "      <td>44</td>\n",
       "      <td>1</td>\n",
       "      <td>4060147000</td>\n",
       "      <td>1</td>\n",
       "      <td>302985000</td>\n",
       "      <td>39</td>\n",
       "      <td>0</td>\n",
       "      <td>0</td>\n",
       "    </tr>\n",
       "    <tr>\n",
       "      <th>3</th>\n",
       "      <td>660</td>\n",
       "      <td>1</td>\n",
       "      <td>0</td>\n",
       "      <td>35</td>\n",
       "      <td>8</td>\n",
       "      <td>1290111000</td>\n",
       "      <td>1</td>\n",
       "      <td>874166000</td>\n",
       "      <td>97</td>\n",
       "      <td>0</td>\n",
       "      <td>0</td>\n",
       "    </tr>\n",
       "    <tr>\n",
       "      <th>4</th>\n",
       "      <td>643</td>\n",
       "      <td>0</td>\n",
       "      <td>0</td>\n",
       "      <td>34</td>\n",
       "      <td>7</td>\n",
       "      <td>0</td>\n",
       "      <td>2</td>\n",
       "      <td>441338000</td>\n",
       "      <td>21</td>\n",
       "      <td>1</td>\n",
       "      <td>0</td>\n",
       "    </tr>\n",
       "    <tr>\n",
       "      <th>...</th>\n",
       "      <td>...</td>\n",
       "      <td>...</td>\n",
       "      <td>...</td>\n",
       "      <td>...</td>\n",
       "      <td>...</td>\n",
       "      <td>...</td>\n",
       "      <td>...</td>\n",
       "      <td>...</td>\n",
       "      <td>...</td>\n",
       "      <td>...</td>\n",
       "      <td>...</td>\n",
       "    </tr>\n",
       "    <tr>\n",
       "      <th>995</th>\n",
       "      <td>540</td>\n",
       "      <td>1</td>\n",
       "      <td>0</td>\n",
       "      <td>39</td>\n",
       "      <td>4</td>\n",
       "      <td>2800123000</td>\n",
       "      <td>1</td>\n",
       "      <td>71061000</td>\n",
       "      <td>85</td>\n",
       "      <td>1</td>\n",
       "      <td>0</td>\n",
       "    </tr>\n",
       "    <tr>\n",
       "      <th>996</th>\n",
       "      <td>756</td>\n",
       "      <td>1</td>\n",
       "      <td>1</td>\n",
       "      <td>39</td>\n",
       "      <td>5</td>\n",
       "      <td>3285989000</td>\n",
       "      <td>2</td>\n",
       "      <td>480033000</td>\n",
       "      <td>78</td>\n",
       "      <td>1</td>\n",
       "      <td>0</td>\n",
       "    </tr>\n",
       "    <tr>\n",
       "      <th>997</th>\n",
       "      <td>595</td>\n",
       "      <td>1</td>\n",
       "      <td>1</td>\n",
       "      <td>26</td>\n",
       "      <td>8</td>\n",
       "      <td>2608050000</td>\n",
       "      <td>1</td>\n",
       "      <td>665246000</td>\n",
       "      <td>93</td>\n",
       "      <td>0</td>\n",
       "      <td>1</td>\n",
       "    </tr>\n",
       "    <tr>\n",
       "      <th>998</th>\n",
       "      <td>464</td>\n",
       "      <td>1</td>\n",
       "      <td>0</td>\n",
       "      <td>33</td>\n",
       "      <td>8</td>\n",
       "      <td>3614264000</td>\n",
       "      <td>2</td>\n",
       "      <td>16325000</td>\n",
       "      <td>15</td>\n",
       "      <td>0</td>\n",
       "      <td>0</td>\n",
       "    </tr>\n",
       "    <tr>\n",
       "      <th>999</th>\n",
       "      <td>506</td>\n",
       "      <td>0</td>\n",
       "      <td>1</td>\n",
       "      <td>32</td>\n",
       "      <td>3</td>\n",
       "      <td>0</td>\n",
       "      <td>1</td>\n",
       "      <td>355621000</td>\n",
       "      <td>11</td>\n",
       "      <td>0</td>\n",
       "      <td>0</td>\n",
       "    </tr>\n",
       "  </tbody>\n",
       "</table>\n",
       "<p>1000 rows × 11 columns</p>\n",
       "</div>"
      ],
      "text/plain": [
       "     CreditScore  Geography  Gender  Age  Tenure     Balance  NumOfProducts  \\\n",
       "0            633          0       0   40       4  3312716000              1   \n",
       "1            733          2       1   30       1  1833024000              1   \n",
       "2            705          2       0   44       1  4060147000              1   \n",
       "3            660          1       0   35       8  1290111000              1   \n",
       "4            643          0       0   34       7           0              2   \n",
       "..           ...        ...     ...  ...     ...         ...            ...   \n",
       "995          540          1       0   39       4  2800123000              1   \n",
       "996          756          1       1   39       5  3285989000              2   \n",
       "997          595          1       1   26       8  2608050000              1   \n",
       "998          464          1       0   33       8  3614264000              2   \n",
       "999          506          0       1   32       3           0              1   \n",
       "\n",
       "     EstimatedSalary  SpendingScore  Family  Exited  \n",
       "0          152551000             45       0       0  \n",
       "1          254184000             38       0       0  \n",
       "2          302985000             39       0       0  \n",
       "3          874166000             97       0       0  \n",
       "4          441338000             21       1       0  \n",
       "..               ...            ...     ...     ...  \n",
       "995         71061000             85       1       0  \n",
       "996        480033000             78       1       0  \n",
       "997        665246000             93       0       1  \n",
       "998         16325000             15       0       0  \n",
       "999        355621000             11       0       0  \n",
       "\n",
       "[1000 rows x 11 columns]"
      ]
     },
     "execution_count": 166,
     "metadata": {},
     "output_type": "execute_result"
    }
   ],
   "source": [
    "test_data['Gender'] = test_data['Gender'].map({'Male': 0, 'Female': 1})\n",
    "test_data['Geography'] = test_data['Geography'].map({'North': 0, 'Mid': 1, 'South': 2})\n",
    "test_data['Family'] = test_data['Family'].map({'Single': 0, 'Married': 1, 'Divorced': 2, 'Not specified': 3})\n",
    "test_data"
   ]
  },
  {
   "cell_type": "code",
   "execution_count": 167,
   "id": "fddfe3dd",
   "metadata": {},
   "outputs": [],
   "source": [
    "X_test2 = test_data.iloc[:, :-1].values\n",
    "y_test2 = test_data.iloc[:,-1].values"
   ]
  },
  {
   "cell_type": "code",
   "execution_count": 168,
   "id": "0a1043da",
   "metadata": {},
   "outputs": [
    {
     "data": {
      "text/plain": [
       "<sklearn.metrics._plot.confusion_matrix.ConfusionMatrixDisplay at 0x209d8ab7910>"
      ]
     },
     "execution_count": 168,
     "metadata": {},
     "output_type": "execute_result"
    },
    {
     "data": {
      "image/png": "[encoded data removed]",
      "text/plain": [
       "<Figure size 432x288 with 2 Axes>"
      ]
     },
     "metadata": {
      "needs_background": "light"
     },
     "output_type": "display_data"
    }
   ],
   "source": [
    "# Confusion matrix\n",
    "plot_confusion_matrix(clf, X_test2,y_test2,cmap= 'Blues', display_labels = ['Stay with bank', 'No stay with bank'])"
   ]
  },
  {
   "cell_type": "markdown",
   "id": "ffac67ff",
   "metadata": {},
   "source": [
    "- True Positive = 769: The model correctly predicted 1407 people who stayed with the bank.\n",
    "- False Positive = 98: There are 98 customers who do not stay with the bank but the model predicts wrong.\n",
    "- False negative = 115: There are 115 customers who stay with the bank but are detected wrongly by the model.\n",
    "- True negative = 18: There are 18 customers staying with the bank correctly detected by the model.\n",
    "- The model incorrectly detected a lot of customers staying with bank to no stay with bank, more than the number of correct detections was 18. The number of false predictions and false detections of the model is many."
   ]
  },
  {
   "cell_type": "code",
   "execution_count": 169,
   "id": "3f406d55",
   "metadata": {},
   "outputs": [
    {
     "name": "stdout",
     "output_type": "stream",
     "text": [
      "              precision    recall  f1-score   support\n",
      "\n",
      "           0       0.89      0.87      0.88       884\n",
      "           1       0.14      0.16      0.14       116\n",
      "\n",
      "    accuracy                           0.79      1000\n",
      "   macro avg       0.51      0.51      0.51      1000\n",
      "weighted avg       0.80      0.79      0.79      1000\n",
      "\n",
      "Decision Tree accuracy:  0.787\n"
     ]
    }
   ],
   "source": [
    "# classification report and accuracy\n",
    "y_pred2 = DT_classifier.predict(X_test2)\n",
    "print(classification_report(y_test2,y_pred2))\n",
    "print('Decision Tree accuracy: ', accuracy_score(y_test2, y_pred2))"
   ]
  },
  {
   "cell_type": "markdown",
   "id": "a1f66d51",
   "metadata": {},
   "source": [
    "When adding standout data, all the metrics of the classification report are reduced (especially class 1 and macro average)  because the standout data is imbalanced.\n",
    "The model's accuracy is therefore also reduced from 93% to 78.7%. Precision, recall and f1-score of class 1 are very lơ."
   ]
  }
 ],
 "metadata": {
  "kernelspec": {
   "display_name": "Python 3",
   "language": "python",
   "name": "python3"
  },
  "language_info": {
   "codemirror_mode": {
    "name": "ipython",
    "version": 3
   },
   "file_extension": ".py",
   "mimetype": "text/x-python",
   "name": "python",
   "nbconvert_exporter": "python",
   "pygments_lexer": "ipython3",
   "version": "3.8.8"
  }
 },
 "nbformat": 4,
 "nbformat_minor": 5
}
